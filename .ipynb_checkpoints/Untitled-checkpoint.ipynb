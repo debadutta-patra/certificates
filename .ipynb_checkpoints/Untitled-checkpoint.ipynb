{
 "cells": [
  {
   "cell_type": "code",
   "execution_count": 12,
   "metadata": {},
   "outputs": [
    {
     "name": "stderr",
     "output_type": "stream",
     "text": [
      "  0%|          | 0/3 [00:00<?, ?it/s]\n",
      "100%|██████████| 66/66 [00:00<00:00, 204298.20it/s]\n",
      " 33%|███▎      | 1/3 [00:00<00:01,  1.23it/s]\n",
      "100%|██████████| 66/66 [00:00<00:00, 416276.79it/s]\n",
      " 67%|██████▋   | 2/3 [00:01<00:00,  1.22it/s]\n",
      "100%|██████████| 66/66 [00:00<00:00, 662258.53it/s]\n",
      "100%|██████████| 3/3 [00:02<00:00,  1.23it/s]\n"
     ]
    }
   ],
   "source": [
    "import os\n",
    "from tqdm import tqdm\n",
    "\n",
    "name=[\"Annapoorna KP\",\"Debadutta Patra\",\"Sonu Yadav\"]\n",
    "inst=[\"CCMB, Hyderabad\",\"CCMB, Hyderabad\",\"CCMB, Hyderabad\"]\n",
    "file=open(\"certificate.tex\",'r')\n",
    "tex=file.readlines()\n",
    "file.close()\n",
    "\n",
    "for i in tqdm(range(len(name))):\n",
    "    new_tex=[]\n",
    "    for line in tqdm(tex):\n",
    "        if line.startswith(\"We are pleased\"):\n",
    "            new_tex.append(line + name[i] + '}')\n",
    "        elif line.startswith(\" from\"):\n",
    "            new_tex.append(line + inst[i] +\"}\")\n",
    "        else:\n",
    "            new_tex.append(line)\n",
    "\n",
    "    file1=open(f\"{name[i]}.tex\",'w')\n",
    "    for line in new_tex:\n",
    "        file1.write(line)\n",
    "    file1.close()\n",
    "    filename=name[i].split()\n",
    "#     print(filename)\n",
    "    os.system(f\"pdflatex {filename[0]}\\ {filename[1]}.tex\")"
   ]
  },
  {
   "cell_type": "code",
   "execution_count": 2,
   "metadata": {},
   "outputs": [
    {
     "name": "stdout",
     "output_type": "stream",
     "text": [
      "This is pdfTeX, Version 3.14159265-2.6-1.40.18 (TeX Live 2017/Debian) (preloaded format=pdflatex)\n",
      " restricted \\write18 enabled.\n",
      "entering extended mode\n",
      "(./Annapoorna KP.aux\n",
      "LaTeX2e <2017-04-15>\n",
      "Babel <3.18> and hyphenation patterns for 3 language(s) loaded.\n",
      ")\n",
      "\n",
      "! LaTeX Error: Missing \\begin{document}.\n",
      "\n",
      "See the LaTeX manual or LaTeX Companion for explanation.\n",
      "Type  H <return>  for immediate help.\n",
      " ...                                              \n",
      "                                                  \n",
      "<*> \"Annapoorna KP.aux\" A\n",
      "                         nnapoorna KP.log Annapoorna KP.pdf Annapoorna KP.te...\n",
      "\n",
      "? ^C\n",
      "! Interruption.\n",
      "\\GenericError  ...                                \n",
      "                                                  \\endgroup \n",
      "<*> \"Annapoorna KP.aux\" A\n",
      "                         nnapoorna KP.log Annapoorna KP.pdf Annapoorna KP.te...\n",
      "\n",
      "? "
     ]
    }
   ],
   "source": [
    " ! pdflatex *"
   ]
  },
  {
   "cell_type": "code",
   "execution_count": 11,
   "metadata": {},
   "outputs": [
    {
     "data": {
      "text/plain": [
       "0"
      ]
     },
     "execution_count": 11,
     "metadata": {},
     "output_type": "execute_result"
    }
   ],
   "source": [
    "os.system('pdflatex Debadutta\\ Patra.tex')"
   ]
  }
 ],
 "metadata": {
  "kernelspec": {
   "display_name": "Python 3",
   "language": "python",
   "name": "python3"
  },
  "language_info": {
   "codemirror_mode": {
    "name": "ipython",
    "version": 3
   },
   "file_extension": ".py",
   "mimetype": "text/x-python",
   "name": "python",
   "nbconvert_exporter": "python",
   "pygments_lexer": "ipython3",
   "version": "3.7.6"
  }
 },
 "nbformat": 4,
 "nbformat_minor": 4
}
